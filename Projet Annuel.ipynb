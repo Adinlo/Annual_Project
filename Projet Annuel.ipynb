{
 "cells": [
  {
   "cell_type": "code",
   "id": "initial_id",
   "metadata": {
    "collapsed": true,
    "ExecuteTime": {
     "end_time": "2024-09-19T12:04:11.952919Z",
     "start_time": "2024-09-19T12:04:11.629200Z"
    }
   },
   "source": [
    "import gym\n",
    "import numpy as np\n",
    "import pygame\n",
    "import random"
   ],
   "outputs": [],
   "execution_count": 1
  },
  {
   "metadata": {
    "ExecuteTime": {
     "end_time": "2024-09-19T12:05:40.939205Z",
     "start_time": "2024-09-19T12:04:51.257344Z"
    }
   },
   "cell_type": "code",
   "source": [
    "# Définir l'environnement des bonhommes\n",
    "class BonhommeEnv(gym.Env):\n",
    "    def __init__(self):\n",
    "        super(BonhommeEnv, self).__init__()\n",
    "\n",
    "        # Définition des actions possibles (ex: se déplacer dans une grille)\n",
    "        self.action_space = gym.spaces.Discrete(4)  # 4 actions possibles : Haut, Bas, Gauche, Droite\n",
    "\n",
    "        # Définition de l'état (par exemple, position du bonhomme dans une grille 5x5)\n",
    "        self.observation_space = gym.spaces.Box(low=0, high=4, shape=(2,), dtype=np.int32)\n",
    "\n",
    "        # Initialiser la position du bonhomme\n",
    "        self.state = np.array([0, 0])  # Position initiale\n",
    "\n",
    "        # Récompenses\n",
    "        self.reward = 0\n",
    "\n",
    "        # Taille de la grille (pour pygame)\n",
    "        self.grid_size = 5\n",
    "        self.cell_size = 100  # Taille d'une cellule dans la grille\n",
    "\n",
    "        # Initialiser Pygame\n",
    "        pygame.init()\n",
    "        self.screen = pygame.display.set_mode((self.grid_size * self.cell_size, self.grid_size * self.cell_size))\n",
    "        pygame.display.set_caption('Simulation des Bonhommes')\n",
    "        self.clock = pygame.time.Clock()\n",
    "\n",
    "    def step(self, action):\n",
    "        # Appliquer l'action et mettre à jour la position\n",
    "        if action == 0:  # Haut\n",
    "            self.state[1] = max(self.state[1] - 1, 0)\n",
    "        elif action == 1:  # Bas\n",
    "            self.state[1] = min(self.state[1] + 1, 4)\n",
    "        elif action == 2:  # Gauche\n",
    "            self.state[0] = max(self.state[0] - 1, 0)\n",
    "        elif action == 3:  # Droite\n",
    "            self.state[0] = min(self.state[0] + 1, 4)\n",
    "\n",
    "        # Calculer la récompense \n",
    "        done = bool(self.state[0] == 4 and self.state[1] == 4)\n",
    "        self.reward = 1 if done else -0.1\n",
    "\n",
    "        return self.state, self.reward, done, {}\n",
    "\n",
    "    def reset(self):\n",
    "        # Réinitialiser l'environnement\n",
    "        self.state = np.array([0, 0])\n",
    "        return self.state\n",
    "\n",
    "    def render(self):\n",
    "        # Couleurs\n",
    "        white = (255, 255, 255)\n",
    "        black = (0, 0, 0)\n",
    "        blue = (0, 0, 255)\n",
    "\n",
    "        # Remplir l'écran avec du blanc\n",
    "        self.screen.fill(white)\n",
    "\n",
    "        # Dessiner la grille\n",
    "        for x in range(self.grid_size):\n",
    "            for y in range(self.grid_size):\n",
    "                rect = pygame.Rect(x * self.cell_size, y * self.cell_size, self.cell_size, self.cell_size)\n",
    "                pygame.draw.rect(self.screen, black, rect, 1)  # Dessiner le contour de la case\n",
    "\n",
    "        # Dessiner le bonhomme (cercle)\n",
    "        bonhomme_x = self.state[0] * self.cell_size + self.cell_size // 2\n",
    "        bonhomme_y = self.state[1] * self.cell_size + self.cell_size // 2\n",
    "        pygame.draw.circle(self.screen, blue, (bonhomme_x, bonhomme_y), self.cell_size // 4)\n",
    "\n",
    "        # Mettre à jour l'affichage\n",
    "        pygame.display.flip()\n",
    "\n",
    "    def close(self):\n",
    "        pygame.quit()\n",
    "\n",
    "# Utiliser l'environnement\n",
    "env = BonhommeEnv()\n",
    "\n",
    "# Exemple de boucle d'interaction\n",
    "for episode in range(10):\n",
    "    state = env.reset()\n",
    "    done = False\n",
    "    total_reward = 0\n",
    "\n",
    "    while not done:\n",
    "        # Gestion des événements Pygame\n",
    "        for event in pygame.event.get():\n",
    "            if event.type == pygame.QUIT:\n",
    "                done = True\n",
    "                env.close()\n",
    "\n",
    "        action = env.action_space.sample()  # Choisir une action aléatoire\n",
    "        state, reward, done, info = env.step(action)\n",
    "        total_reward += reward\n",
    "        env.render()\n",
    "\n",
    "        env.clock.tick(2)  # Limiter la vitesse de la simulation à 2 images par seconde\n",
    "\n",
    "    print(f\"Épisode {episode + 1} terminé avec un total de récompenses de {total_reward}\")\n",
    "\n",
    "env.close()  # Fermer l'environnement après utilisation\n"
   ],
   "id": "fcdf78506b5f818c",
   "outputs": [
    {
     "ename": "error",
     "evalue": "display Surface quit",
     "output_type": "error",
     "traceback": [
      "\u001B[1;31m---------------------------------------------------------------------------\u001B[0m",
      "\u001B[1;31merror\u001B[0m                                     Traceback (most recent call last)",
      "Cell \u001B[1;32mIn[4], line 95\u001B[0m\n\u001B[0;32m     93\u001B[0m     state, reward, done, info \u001B[38;5;241m=\u001B[39m env\u001B[38;5;241m.\u001B[39mstep(action)\n\u001B[0;32m     94\u001B[0m     total_reward \u001B[38;5;241m+\u001B[39m\u001B[38;5;241m=\u001B[39m reward\n\u001B[1;32m---> 95\u001B[0m     env\u001B[38;5;241m.\u001B[39mrender()\n\u001B[0;32m     97\u001B[0m     env\u001B[38;5;241m.\u001B[39mclock\u001B[38;5;241m.\u001B[39mtick(\u001B[38;5;241m2\u001B[39m)  \u001B[38;5;66;03m# Limiter la vitesse de la simulation à 2 images par seconde\u001B[39;00m\n\u001B[0;32m     99\u001B[0m \u001B[38;5;28mprint\u001B[39m(\u001B[38;5;124mf\u001B[39m\u001B[38;5;124m\"\u001B[39m\u001B[38;5;124mÉpisode \u001B[39m\u001B[38;5;132;01m{\u001B[39;00mepisode\u001B[38;5;250m \u001B[39m\u001B[38;5;241m+\u001B[39m\u001B[38;5;250m \u001B[39m\u001B[38;5;241m1\u001B[39m\u001B[38;5;132;01m}\u001B[39;00m\u001B[38;5;124m terminé avec un total de récompenses de \u001B[39m\u001B[38;5;132;01m{\u001B[39;00mtotal_reward\u001B[38;5;132;01m}\u001B[39;00m\u001B[38;5;124m\"\u001B[39m)\n",
      "Cell \u001B[1;32mIn[4], line 57\u001B[0m, in \u001B[0;36mBonhommeEnv.render\u001B[1;34m(self)\u001B[0m\n\u001B[0;32m     54\u001B[0m red \u001B[38;5;241m=\u001B[39m (\u001B[38;5;241m0\u001B[39m, \u001B[38;5;241m0\u001B[39m, \u001B[38;5;241m255\u001B[39m)\n\u001B[0;32m     56\u001B[0m \u001B[38;5;66;03m# Remplir l'écran avec du blanc\u001B[39;00m\n\u001B[1;32m---> 57\u001B[0m \u001B[38;5;28mself\u001B[39m\u001B[38;5;241m.\u001B[39mscreen\u001B[38;5;241m.\u001B[39mfill(white)\n\u001B[0;32m     59\u001B[0m \u001B[38;5;66;03m# Dessiner la grille\u001B[39;00m\n\u001B[0;32m     60\u001B[0m \u001B[38;5;28;01mfor\u001B[39;00m x \u001B[38;5;129;01min\u001B[39;00m \u001B[38;5;28mrange\u001B[39m(\u001B[38;5;28mself\u001B[39m\u001B[38;5;241m.\u001B[39mgrid_size):\n",
      "\u001B[1;31merror\u001B[0m: display Surface quit"
     ]
    }
   ],
   "execution_count": 4
  },
  {
   "metadata": {},
   "cell_type": "code",
   "outputs": [],
   "execution_count": null,
   "source": "",
   "id": "75d067a27f809b45"
  }
 ],
 "metadata": {
  "kernelspec": {
   "display_name": "Python 3",
   "language": "python",
   "name": "python3"
  },
  "language_info": {
   "codemirror_mode": {
    "name": "ipython",
    "version": 2
   },
   "file_extension": ".py",
   "mimetype": "text/x-python",
   "name": "python",
   "nbconvert_exporter": "python",
   "pygments_lexer": "ipython2",
   "version": "2.7.6"
  }
 },
 "nbformat": 4,
 "nbformat_minor": 5
}
